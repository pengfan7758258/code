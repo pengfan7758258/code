{
 "cells": [
  {
   "cell_type": "code",
   "execution_count": 1,
   "id": "bb32cf96",
   "metadata": {},
   "outputs": [
    {
     "data": {
      "text/plain": [
       "True"
      ]
     },
     "execution_count": 1,
     "metadata": {},
     "output_type": "execute_result"
    }
   ],
   "source": [
    "from dotenv import load_dotenv\n",
    "load_dotenv()"
   ]
  },
  {
   "cell_type": "code",
   "execution_count": 2,
   "id": "e95850e0",
   "metadata": {},
   "outputs": [],
   "source": [
    "from langchain_openai import OpenAIEmbeddings\n",
    "\n",
    "embeddings = OpenAIEmbeddings(model=\"text-embedding-3-large\")"
   ]
  },
  {
   "cell_type": "code",
   "execution_count": 3,
   "id": "fbf9f5b5",
   "metadata": {},
   "outputs": [],
   "source": [
    "from langchain_chroma import Chroma\n",
    "\n",
    "vector_store = Chroma(\n",
    "    collection_name=\"example_collection\",\n",
    "    embedding_function=embeddings,\n",
    "    persist_directory=\"./chroma_langchain_db\",  # Where to save data locally, remove if not necessary\n",
    ")"
   ]
  },
  {
   "cell_type": "code",
   "execution_count": 22,
   "id": "4fca3c8c",
   "metadata": {},
   "outputs": [
    {
     "data": {
      "text/plain": [
       "['d22505ca-f34f-4dfa-8e8a-b4f8769f8f91']"
      ]
     },
     "execution_count": 22,
     "metadata": {},
     "output_type": "execute_result"
    }
   ],
   "source": [
    "from uuid import uuid4\n",
    "\n",
    "from langchain_core.documents import Document\n",
    "\n",
    "# document_1 = Document(\n",
    "#     page_content=\"云边有个小卖部\",\n",
    "#     metadata={\"source\": \"metadata 云边有个小卖部\", \"content\": \"\"},\n",
    "#     id=1,\n",
    "# )\n",
    "\n",
    "# document_2 = Document(\n",
    "#     page_content=\"静夜思\",\n",
    "#     metadata={\"source\": \"metadata 静夜思\", \"content\": \"\"},\n",
    "#     id=2,\n",
    "# )\n",
    "\n",
    "# document_3 = Document(\n",
    "#     page_content=\"春 朱自清\",\n",
    "#     metadata={\"source\": \"metadata 春 朱自清\", \"content\": \"\"},\n",
    "#     id=3,\n",
    "# )\n",
    "\n",
    "document_1 = Document(\n",
    "    page_content=\"熊出没\",\n",
    "    metadata={\"source\": \"metadata 熊出没\", \"content\": \"\"},\n",
    "    id=1,\n",
    ")\n",
    "\n",
    "\n",
    "documents = [\n",
    "    document_1\n",
    "]\n",
    "uuids = [str(uuid4()) for _ in range(len(documents))]\n",
    "\n",
    "vector_store.add_documents(documents=documents, ids=uuids)"
   ]
  },
  {
   "cell_type": "code",
   "execution_count": 33,
   "id": "a52b5bd9",
   "metadata": {},
   "outputs": [],
   "source": [
    "results = vector_store.similarity_search_with_relevance_scores(\n",
    "    \"请帮我设计一堂关于“熊出没”的课程设计\",\n",
    "    k=1,\n",
    "    score_threshold=0.1\n",
    ")"
   ]
  },
  {
   "cell_type": "code",
   "execution_count": 34,
   "id": "81185270",
   "metadata": {},
   "outputs": [],
   "source": [
    "document = results[0][0].model_copy()"
   ]
  },
  {
   "cell_type": "code",
   "execution_count": 36,
   "id": "b10e6860",
   "metadata": {},
   "outputs": [],
   "source": [
    "document.metadata[\"content\"] = \"我又改了\""
   ]
  },
  {
   "cell_type": "code",
   "execution_count": 37,
   "id": "5545e5c3",
   "metadata": {},
   "outputs": [],
   "source": [
    "vector_store.update_document(document.id, document)"
   ]
  },
  {
   "cell_type": "code",
   "execution_count": 38,
   "id": "5c5893a2",
   "metadata": {},
   "outputs": [
    {
     "name": "stdout",
     "output_type": "stream",
     "text": [
      "总共存储了 4 条数据\n",
      "ID: 55318e1b-6715-4c84-b862-d686e41cf30c\n",
      "Text: 云边有个小卖部\n",
      "Metadata: {'content': '', 'source': 'metadata 云边有个小卖部'}\n",
      "embeddings [-0.02113229 -0.00359929  0.00683169 -0.0024021   0.03423184]\n",
      "----------------------------------------\n",
      "ID: 832b0937-f2df-4b0d-b613-4c54a42f9de2\n",
      "Text: 静夜思\n",
      "Metadata: {'content': '', 'source': 'metadata 静夜思'}\n",
      "embeddings [-0.01246292  0.0096815  -0.00315203  0.02705012  0.03881769]\n",
      "----------------------------------------\n",
      "ID: 18b88665-3031-4771-bae6-ebdcec578fdc\n",
      "Text: 春 朱自清\n",
      "Metadata: {'content': '', 'source': 'metadata 春 朱自清'}\n",
      "embeddings [-0.01342473 -0.02882406  0.00357095  0.01825866  0.00231278]\n",
      "----------------------------------------\n",
      "ID: d22505ca-f34f-4dfa-8e8a-b4f8769f8f91\n",
      "Text: 熊出没\n",
      "Metadata: {'content': '我又改了', 'source': 'metadata 熊出没'}\n",
      "embeddings [-0.0038684   0.01176895 -0.00383201  0.01735138  0.04017602]\n",
      "----------------------------------------\n"
     ]
    }
   ],
   "source": [
    "# 获取底层 collection 对象\n",
    "collection = vector_store._collection\n",
    "\n",
    "# 获取所有数据（None 表示不限制）\n",
    "all_data = collection.get(\n",
    "    ids=None,           # 获取所有 ID\n",
    "    include=['metadatas', 'documents', 'embeddings']  # 指定你想要的字段\n",
    ")\n",
    "\n",
    "# 打印总数\n",
    "print(f\"总共存储了 {len(all_data['ids'])} 条数据\")\n",
    "\n",
    "# 遍历打印每条记录（示例）\n",
    "for i in range(len(all_data[\"ids\"])):\n",
    "    print(\"ID:\", all_data[\"ids\"][i])\n",
    "    print(\"Text:\", all_data[\"documents\"][i])\n",
    "    print(\"Metadata:\", all_data[\"metadatas\"][i])\n",
    "    print(\"embeddings\", all_data[\"embeddings\"][i][:5])\n",
    "    print(\"-\" * 40)\n"
   ]
  },
  {
   "cell_type": "code",
   "execution_count": 32,
   "id": "f1548c42",
   "metadata": {},
   "outputs": [
    {
     "name": "stdout",
     "output_type": "stream",
     "text": [
      "总共存储了 4 条数据\n",
      "ID: {'ids': ['55318e1b-6715-4c84-b862-d686e41cf30c', '832b0937-f2df-4b0d-b613-4c54a42f9de2', '18b88665-3031-4771-bae6-ebdcec578fdc', 'd22505ca-f34f-4dfa-8e8a-b4f8769f8f91'], 'embeddings': array([[-0.02113229, -0.00359929,  0.00683169, ...,  0.01564068,\n",
      "        -0.01175561,  0.02613731],\n",
      "       [-0.01246292,  0.0096815 , -0.00315203, ..., -0.00767566,\n",
      "         0.00855823, -0.00567747],\n",
      "       [-0.01342473, -0.02882406,  0.00357095, ..., -0.0002338 ,\n",
      "         0.00202749, -0.0132324 ],\n",
      "       [-0.0038684 ,  0.01176895, -0.00383201, ..., -0.00413041,\n",
      "         0.00201426,  0.0129917 ]], shape=(4, 3072)), 'documents': ['云边有个小卖部', '静夜思', '春 朱自清', '熊出没'], 'uris': None, 'data': None, 'metadatas': [{'content': '', 'source': 'metadata 云边有个小卖部'}, {'content': '', 'source': 'metadata 静夜思'}, {'content': '', 'source': 'metadata 春 朱自清'}, {'content': '我改了', 'source': 'metadata 熊出没'}], 'included': [<IncludeEnum.embeddings: 'embeddings'>, <IncludeEnum.documents: 'documents'>, <IncludeEnum.metadatas: 'metadatas'>]}\n",
      "----------------------------------------\n"
     ]
    }
   ],
   "source": [
    "# 获取底层 collection 对象\n",
    "collection = vector_store._collection\n",
    "\n",
    "# 获取所有数据（None 表示不限制）\n",
    "all_data = collection.get(\n",
    "    ids=None,           # 获取所有 ID\n",
    "    include=['metadatas', 'documents', 'embeddings']  # 指定你想要的字段\n",
    ")\n",
    "\n",
    "# 打印总数\n",
    "print(f\"总共存储了 {len(all_data['ids'])} 条数据\")\n",
    "\n",
    "# 遍历打印每条记录（示例）\n",
    "for i in range(len(all_data[\"ids\"])):\n",
    "    print(\"ID:\", all_data)\n",
    "    # print(\"ID:\", all_data[\"ids\"][i])\n",
    "    # print(\"Text:\", all_data[\"documents\"][i])\n",
    "    # print(\"Metadata:\", all_data[\"metadatas\"][i])\n",
    "    # print(\"embeddings\", all_data[\"embeddings\"][i][:5])\n",
    "    # print(\"included\", all_data[\"included\"][i])\n",
    "    print(\"-\" * 40)\n",
    "    break"
   ]
  }
 ],
 "metadata": {
  "kernelspec": {
   "display_name": "lc",
   "language": "python",
   "name": "python3"
  },
  "language_info": {
   "codemirror_mode": {
    "name": "ipython",
    "version": 3
   },
   "file_extension": ".py",
   "mimetype": "text/x-python",
   "name": "python",
   "nbconvert_exporter": "python",
   "pygments_lexer": "ipython3",
   "version": "3.10.16"
  }
 },
 "nbformat": 4,
 "nbformat_minor": 5
}
