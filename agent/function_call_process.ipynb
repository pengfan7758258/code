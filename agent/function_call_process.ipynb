{
 "cells": [
  {
   "cell_type": "code",
   "execution_count": 1,
   "metadata": {},
   "outputs": [],
   "source": [
    "import os\n",
    "os.environ[\"OPENAI_API_KEY\"] = \"sk-123\""
   ]
  },
  {
   "cell_type": "code",
   "execution_count": 31,
   "metadata": {},
   "outputs": [],
   "source": [
    "from langchain.chat_models import init_chat_model\n",
    "\n",
    "client = init_chat_model(\n",
    "    model=\"gpt-4o\",\n",
    "    model_provider=\"openai\"\n",
    ")"
   ]
  },
  {
   "cell_type": "code",
   "execution_count": null,
   "metadata": {},
   "outputs": [
    {
     "name": "stdout",
     "output_type": "stream",
     "text": [
      "content='深圳的天气是晴天。' additional_kwargs={'refusal': None} response_metadata={'token_usage': {'completion_tokens': 9, 'prompt_tokens': 103, 'total_tokens': 112, 'completion_tokens_details': {'accepted_prediction_tokens': 0, 'audio_tokens': 0, 'reasoning_tokens': 0, 'rejected_prediction_tokens': 0}, 'prompt_tokens_details': {'audio_tokens': 0, 'cached_tokens': 0}}, 'model_name': 'gpt-4o-2024-08-06', 'system_fingerprint': 'fp_f5bdcc3276', 'id': 'chatcmpl-BOSmpn1GBh9j4fXqhmLlzBOdi5tE2', 'finish_reason': 'stop', 'logprobs': None} id='run-3ed3ab75-5b28-46fb-aba8-866583e2ffb7-0' usage_metadata={'input_tokens': 103, 'output_tokens': 9, 'total_tokens': 112, 'input_token_details': {'audio': 0, 'cache_read': 0}, 'output_token_details': {'audio': 0, 'reasoning': 0}}\n"
     ]
    }
   ],
   "source": [
    "from langchain_core.messages import ToolMessage\n",
    "tools = [\n",
    "    {\n",
    "        \"type\": \"function\",\n",
    "        \"function\": {\n",
    "            \"name\": \"get_weather\",\n",
    "            \"description\": \"获取当前位置的天气信息\",\n",
    "            \"parameters\": {\n",
    "                \"type\": \"object\",\n",
    "                \"properties\": {\n",
    "                    \"location\": {\n",
    "                        \"type\": \"string\",\n",
    "                        \"description\": \"城市名字 e.g. 北京\"\n",
    "                    },\n",
    "                    \"country\": {\n",
    "                        \"type\": \"string\",\n",
    "                        \"description\": \"国家名字 e.g. 中国\"\n",
    "                    }\n",
    "                },\n",
    "                \"required\": [\n",
    "                    \"location\", \"country\"\n",
    "                ],\n",
    "                \"additionalProperties\": False\n",
    "            }\n",
    "        }\n",
    "    }\n",
    "]\n",
    "\n",
    "def get_weather(location: str, country: str) -> str:\n",
    "    \"\"\"获取当前位置的天气信息\n",
    "\n",
    "    Args:\n",
    "        location(str): 城市名字 e.g. 北京\n",
    "        country(str): 国家名字 e.g. 中国\n",
    "    \"\"\"\n",
    "    return f\"{country}的{location}的天气是：晴天\"\n",
    "\n",
    "client1 = client.bind_tools(tools)\n",
    "\n",
    "query = \"深圳的天气怎么样?\"\n",
    "messages = [{\"role\": \"user\", \"content\": query}]\n",
    "\n",
    "# 获取 function call 的结果\n",
    "response = client1.invoke(messages)\n",
    "# response: AIMessage(content='', additional_kwargs={'tool_calls': [{'id': 'call_3PtrIN9pcKkQC4Aq2JTY6KA5', 'function': {'arguments': '{\"location\":\"深圳\",\"country\":\"中国\"}', 'name': 'get_weather'}, 'type': 'function'}], 'refusal': None}, response_metadata={'token_usage': {'completion_tokens': 19, 'prompt_tokens': 68, 'total_tokens': 87, 'completion_tokens_details': {'accepted_prediction_tokens': 0, 'audio_tokens': 0, 'reasoning_tokens': 0, 'rejected_prediction_tokens': 0}, 'prompt_tokens_details': {'audio_tokens': 0, 'cached_tokens': 0}}, 'model_name': 'gpt-4o-2024-08-06', 'system_fingerprint': 'fp_f5bdcc3276', 'id': 'chatcmpl-BOSOnQUE2zGJxbfyGHjMV7vU33BOG', 'finish_reason': 'tool_calls', 'logprobs': None}, id='run-4b04723b-4615-483c-9e6b-2d765d9613ef-0', tool_calls=[{'name': 'get_weather', 'args': {'location': '深圳', 'country': '中国'}, 'id': 'call_3PtrIN9pcKkQC4Aq2JTY6KA5', 'type': 'tool_call'}], usage_metadata={'input_tokens': 68, 'output_tokens': 19, 'total_tokens': 87, 'input_token_details': {'audio': 0, 'cache_read': 0}, 'output_token_details': {'audio': 0, 'reasoning': 0}})\n",
    "\n",
    "tool_result = get_weather(**response.tool_calls[0][\"args\"])\n",
    "# tool_result: '中国的深圳的天气是：晴天'\n",
    "\n",
    "messages.append(response)\n",
    "messages.append(ToolMessage(content=tool_result, tool_call_id=response.tool_calls[0][\"id\"]))\n",
    "response = client1.invoke(messages)\n",
    "print(response)"
   ]
  },
  {
   "cell_type": "code",
   "execution_count": 51,
   "metadata": {},
   "outputs": [
    {
     "name": "stdout",
     "output_type": "stream",
     "text": [
      "{'location': '深圳', 'country': '中国'} <class 'dict'>\n"
     ]
    },
    {
     "data": {
      "text/plain": [
       "AIMessage(content='深圳的天气是晴天。', additional_kwargs={'refusal': None}, response_metadata={'token_usage': {'completion_tokens': 9, 'prompt_tokens': 112, 'total_tokens': 121, 'completion_tokens_details': {'accepted_prediction_tokens': 0, 'audio_tokens': 0, 'reasoning_tokens': 0, 'rejected_prediction_tokens': 0}, 'prompt_tokens_details': {'audio_tokens': 0, 'cached_tokens': 0}}, 'model_name': 'gpt-4o-2024-08-06', 'system_fingerprint': 'fp_f7a584cf1f', 'id': 'chatcmpl-BOSwjqh2N8wnnndHhftnzvWygukVh', 'finish_reason': 'stop', 'logprobs': None}, id='run-d16e1a74-9116-4959-a6cd-4155624a2fdf-0', usage_metadata={'input_tokens': 112, 'output_tokens': 9, 'total_tokens': 121, 'input_token_details': {'audio': 0, 'cache_read': 0}, 'output_token_details': {'audio': 0, 'reasoning': 0}})"
      ]
     },
     "execution_count": 51,
     "metadata": {},
     "output_type": "execute_result"
    }
   ],
   "source": [
    "# 简单的方式\n",
    "from langchain_core.messages import ToolMessage\n",
    "from langchain_core.tools import tool\n",
    "@tool\n",
    "def get_weather(location: str, country: str) -> str:\n",
    "    \"\"\"获取当前位置的天气信息\n",
    "\n",
    "    Args:\n",
    "        location(str): 城市名字 e.g. 北京\n",
    "        country(str): 国家名字 e.g. 中国\n",
    "    \"\"\"\n",
    "    return f\"{country}的{location}的天气是：晴天\"\n",
    "\n",
    "client2 = client.bind_tools([get_weather])\n",
    "\n",
    "query = \"深圳的天气怎么样?\"\n",
    "messages = [{\"role\": \"user\", \"content\": query}]\n",
    "\n",
    "# 获取 function call 的结果\n",
    "response = client2.invoke(messages)\n",
    "print(response.tool_calls[0][\"args\"], type(response.tool_calls[0][\"args\"]))\n",
    "tool_result = get_weather.invoke(response.tool_calls[0][\"args\"])\n",
    "# tool_result: '中国的深圳的天气是：晴天'\n",
    "\n",
    "messages.append(response)\n",
    "messages.append(ToolMessage(content=tool_result, tool_call_id=response.tool_calls[0][\"id\"]))\n",
    "response = client2.invoke(messages)\n",
    "response"
   ]
  }
 ],
 "metadata": {
  "kernelspec": {
   "display_name": "llm_hub",
   "language": "python",
   "name": "python3"
  },
  "language_info": {
   "codemirror_mode": {
    "name": "ipython",
    "version": 3
   },
   "file_extension": ".py",
   "mimetype": "text/x-python",
   "name": "python",
   "nbconvert_exporter": "python",
   "pygments_lexer": "ipython3",
   "version": "3.11.11"
  }
 },
 "nbformat": 4,
 "nbformat_minor": 2
}
